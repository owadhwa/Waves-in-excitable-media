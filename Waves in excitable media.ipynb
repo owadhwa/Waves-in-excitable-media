{
 "cells": [
  {
   "cell_type": "markdown",
   "id": "eb977a29",
   "metadata": {},
   "source": [
    "**Waves in excitable media**"
   ]
  },
  {
   "cell_type": "markdown",
   "id": "700f70db",
   "metadata": {},
   "source": [
    "Neural and muscle tissues made of animal cells can generate and propagate electrophysiological signals. These cells can get excited in response to external stimuli coming form nearby cells, and they can generate an *action potential* across their cell membranes that will be transmitted as stimulus to other nearby cells. Once excited, the cell goes through a *refractory period* during which it doesn't respond to any further stimuli. This causes the directionality of signal propagation and the formation of \"travelling waves\" in tissues. "
   ]
  },
  {
   "cell_type": "markdown",
   "id": "289472e6",
   "metadata": {},
   "source": [
    "This kind of spatial dynamics, driven by the propagation of states between adjacent cells that are physically touching each other, are called *contact processes*. A stylized cellular automata model of this excitable media can be developed as follows. Assume a two-dimensional space made of cells where each cell takes either a normal (0, quiescent), excited (1), or refractory (2, 3, ... k) state. A normal cells becomes excited stochastically with a probability determined by a function of the number of excited cells in its neighbourhood. An excited cell becomes refactory (2) immediately, while a refractory cell remains refractory for a while (but its state keeps counting up) and then it comes back to normal after it reaches k. These kinds of travelling waves of excitation (including spirals) are experimentally observable on the surface of a human heart under cardiac arrhythmia.  "
   ]
  },
  {
   "cell_type": "code",
   "execution_count": 1,
   "id": "43948f7d",
   "metadata": {},
   "outputs": [
    {
     "name": "stderr",
     "output_type": "stream",
     "text": [
      "\n",
      "Bad key text.latex.preview in file C:\\Users\\Omika\\anaconda3\\lib\\site-packages\\matplotlib\\mpl-data\\stylelib\\_classic_test.mplstyle, line 123 ('text.latex.preview : False')\n",
      "You probably need to get an updated matplotlibrc file from\n",
      "https://github.com/matplotlib/matplotlib/blob/v3.5.0/matplotlibrc.template\n",
      "or from the matplotlib source distribution\n",
      "\n",
      "Bad key mathtext.fallback_to_cm in file C:\\Users\\Omika\\anaconda3\\lib\\site-packages\\matplotlib\\mpl-data\\stylelib\\_classic_test.mplstyle, line 155 ('mathtext.fallback_to_cm : True  # When True, use symbols from the Computer Modern')\n",
      "You probably need to get an updated matplotlibrc file from\n",
      "https://github.com/matplotlib/matplotlib/blob/v3.5.0/matplotlibrc.template\n",
      "or from the matplotlib source distribution\n",
      "\n",
      "Bad key savefig.jpeg_quality in file C:\\Users\\Omika\\anaconda3\\lib\\site-packages\\matplotlib\\mpl-data\\stylelib\\_classic_test.mplstyle, line 418 ('savefig.jpeg_quality: 95       # when a jpeg is saved, the default quality parameter.')\n",
      "You probably need to get an updated matplotlibrc file from\n",
      "https://github.com/matplotlib/matplotlib/blob/v3.5.0/matplotlibrc.template\n",
      "or from the matplotlib source distribution\n",
      "\n",
      "Bad key keymap.all_axes in file C:\\Users\\Omika\\anaconda3\\lib\\site-packages\\matplotlib\\mpl-data\\stylelib\\_classic_test.mplstyle, line 466 ('keymap.all_axes : a                 # enable all axes')\n",
      "You probably need to get an updated matplotlibrc file from\n",
      "https://github.com/matplotlib/matplotlib/blob/v3.5.0/matplotlibrc.template\n",
      "or from the matplotlib source distribution\n",
      "\n",
      "Bad key animation.avconv_path in file C:\\Users\\Omika\\anaconda3\\lib\\site-packages\\matplotlib\\mpl-data\\stylelib\\_classic_test.mplstyle, line 477 ('animation.avconv_path: avconv     # Path to avconv binary. Without full path')\n",
      "You probably need to get an updated matplotlibrc file from\n",
      "https://github.com/matplotlib/matplotlib/blob/v3.5.0/matplotlibrc.template\n",
      "or from the matplotlib source distribution\n",
      "\n",
      "Bad key animation.avconv_args in file C:\\Users\\Omika\\anaconda3\\lib\\site-packages\\matplotlib\\mpl-data\\stylelib\\_classic_test.mplstyle, line 479 ('animation.avconv_args:            # Additional arguments to pass to avconv')\n",
      "You probably need to get an updated matplotlibrc file from\n",
      "https://github.com/matplotlib/matplotlib/blob/v3.5.0/matplotlibrc.template\n",
      "or from the matplotlib source distribution\n"
     ]
    }
   ],
   "source": [
    "import matplotlib\n",
    "matplotlib.use(\"TkAgg\")\n",
    "\n",
    "import pylab as pl\n",
    "import random as rd\n",
    "import scipy as sp\n",
    "\n",
    "rd.seed()\n",
    "\n",
    "width = 50\n",
    "height = 50\n",
    "initProb = 0.1\n",
    "maxState = 6\n",
    "\n",
    "def init():\n",
    "    global time, config, nextconfig\n",
    "    \n",
    "    time = 0\n",
    "    \n",
    "    config = sp.zeros([height, width])\n",
    "    for x in range(width):\n",
    "        for y in range(height):\n",
    "            if rd.random() < initProb:\n",
    "                state = maxState\n",
    "            else:\n",
    "                state = 0\n",
    "            config[y, x] = state\n",
    "    \n",
    "    nextconfig = sp.zeros([height, width])\n",
    "    \n",
    "def draw():\n",
    "    pl.cla()\n",
    "    pl.pcolor(config, vmin = 0, vmax = maxState, cmap = pl.cm.binary)\n",
    "    pl.axis(\"image\")\n",
    "    pl.title(\"t = \" + str(time))\n",
    "    \n",
    "def step():\n",
    "    global time, config, nextconfig\n",
    "    \n",
    "    time += 1\n",
    "    \n",
    "    for x in range(width):\n",
    "        for y in range(height):\n",
    "            state = config[y, x]\n",
    "            if state == 0:\n",
    "                num = 0\n",
    "                for dx in range(-1, 2):\n",
    "                    for dy in range(-1, 2):\n",
    "                        if config[(y+dy)%height, (x+dx)%width] == maxState:\n",
    "                            num += 1\n",
    "                if rd.random() * 3 < num:\n",
    "                    state = maxState\n",
    "                else:\n",
    "                    state = 0\n",
    "            else:\n",
    "                state -= 1\n",
    "            nextconfig[y, x] = state\n",
    "            \n",
    "    config, nextconfig = nextconfig, config"
   ]
  },
  {
   "cell_type": "code",
   "execution_count": 2,
   "id": "d0fa0dd1",
   "metadata": {},
   "outputs": [
    {
     "name": "stderr",
     "output_type": "stream",
     "text": [
      "C:\\Users\\Omika\\AppData\\Local\\Temp/ipykernel_27116/800871991.py:20: DeprecationWarning: scipy.zeros is deprecated and will be removed in SciPy 2.0.0, use numpy.zeros instead\n",
      "  config = sp.zeros([height, width])\n",
      "C:\\Users\\Omika\\AppData\\Local\\Temp/ipykernel_27116/800871991.py:29: DeprecationWarning: scipy.zeros is deprecated and will be removed in SciPy 2.0.0, use numpy.zeros instead\n",
      "  nextconfig = sp.zeros([height, width])\n",
      "C:\\Users\\Omika\\anaconda3\\lib\\site-packages\\ipykernel\\eventloops.py:256: RuntimeWarning: coroutine 'Kernel.do_one_iteration' was never awaited\n",
      "  self.func()\n",
      "RuntimeWarning: Enable tracemalloc to get the object allocation traceback\n"
     ]
    }
   ],
   "source": [
    "import pycxsimulator\n",
    "pycxsimulator.GUI().start(func=[init, draw, step])"
   ]
  },
  {
   "cell_type": "code",
   "execution_count": null,
   "id": "b4be800f",
   "metadata": {},
   "outputs": [],
   "source": []
  }
 ],
 "metadata": {
  "@webio": {
   "lastCommId": null,
   "lastKernelId": null
  },
  "kernelspec": {
   "display_name": "Python 3 (ipykernel)",
   "language": "python",
   "name": "python3"
  },
  "language_info": {
   "codemirror_mode": {
    "name": "ipython",
    "version": 3
   },
   "file_extension": ".py",
   "mimetype": "text/x-python",
   "name": "python",
   "nbconvert_exporter": "python",
   "pygments_lexer": "ipython3",
   "version": "3.8.12"
  }
 },
 "nbformat": 4,
 "nbformat_minor": 5
}
